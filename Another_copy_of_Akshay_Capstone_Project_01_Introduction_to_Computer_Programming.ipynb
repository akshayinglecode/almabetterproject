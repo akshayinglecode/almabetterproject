{
  "nbformat": 4,
  "nbformat_minor": 0,
  "metadata": {
    "colab": {
      "provenance": [],
      "include_colab_link": true
    },
    "kernelspec": {
      "name": "python3",
      "display_name": "Python 3"
    },
    "language_info": {
      "name": "python"
    }
  },
  "cells": [
    {
      "cell_type": "markdown",
      "metadata": {
        "id": "view-in-github",
        "colab_type": "text"
      },
      "source": [
        "<a href=\"https://colab.research.google.com/github/akshayinglecode/almabetterproject/blob/main/Another_copy_of_Akshay_Capstone_Project_01_Introduction_to_Computer_Programming.ipynb\" target=\"_parent\"><img src=\"https://colab.research.google.com/assets/colab-badge.svg\" alt=\"Open In Colab\"/></a>"
      ]
    },
    {
      "cell_type": "markdown",
      "source": [
        "\n",
        "\n",
        "\n",
        "# **Project name :-** Introduction to Computer Programming"
      ],
      "metadata": {
        "id": "Nvh6_CTdglzf"
      }
    },
    {
      "cell_type": "markdown",
      "source": [
        "# **Project Summary :-** The project (Introduction to Computer Programming) aims to create an immersive and challenging environment for coding enthusiasts, allowing them to not only showcase their coding skills but also refine their communication and presentation abilities."
      ],
      "metadata": {
        "id": "9OA3-XZqhrbP"
      }
    },
    {
      "cell_type": "markdown",
      "source": [
        "**GitHub link:-** https://github.com/akshayinglecode/almabetterproject\n"
      ],
      "metadata": {
        "id": "MiiuKQjtuXOb"
      }
    },
    {
      "cell_type": "markdown",
      "source": [
        "## Score Board Operator\n",
        "An operator working behind the scoreboard of a inter cohort AlmaBetter cricket tournament, is responsible for updating the scores and points of each team. However, the operator is currently facing a challenge. He has been tasked with updating the total number of points gained by Team London, but he does not possess the necessary programming skills to complete this task.\n",
        "According to the tournament's rules, teams are awarded the following points based on the outcome of a match:\n",
        "\n",
        "* wins: 3 points\n",
        "* draws: 1 point\n",
        "* losses: 0 points\n",
        "\n",
        "\n",
        "\n",
        "\n",
        "Team London has played **8 matches** in this tournament. They won **4 matches**, lost **3 matches** and **drew 1**.\n",
        "The operator is in need of assistance to calculate the total number of points earned by Team London. As a python expert adept with knowledge of integer, floats and boolean, you can help the operator by writing a solution for the following problem.\n",
        "\n",
        "What would your approach be?"
      ],
      "metadata": {
        "id": "dCSH8MhBRTW7"
      }
    },
    {
      "cell_type": "code",
      "source": [
        "#following code difine points awords for each outcom"
      ],
      "metadata": {
        "id": "zpkzQLLGcgwJ"
      },
      "execution_count": null,
      "outputs": []
    },
    {
      "cell_type": "code",
      "source": [
        "wins = 3\n",
        "draws = 1\n",
        "losses = 0\n",
        "#number of matchs london won,lost,drew\n",
        "won = 4\n",
        "drew = 1\n",
        "lost = 3\n",
        "\n",
        "total_point =((wins*4)+(draws*1)+(losses*3))\n",
        "print(\"The total number of points earned by Team London is \",total_point)"
      ],
      "metadata": {
        "colab": {
          "base_uri": "https://localhost:8080/"
        },
        "id": "t7Krmwxxim6X",
        "outputId": "6ca4402d-7a35-4bf6-8d95-2dda0d366281"
      },
      "execution_count": 1,
      "outputs": [
        {
          "output_type": "stream",
          "name": "stdout",
          "text": [
            "The total number of points earned by Team London is  13\n"
          ]
        }
      ]
    },
    {
      "cell_type": "markdown",
      "source": [
        "## Nutrition bar ingredient chart\n",
        "\n",
        "Imagine you are a data analyst at a nutrition bar manufacturing company. Your department head approaches you with a question. The company produces a nutrition bar that contains **45g of raisins, 65g of almonds, and 30g of apricots**. The head of the manufacturing department wants you to create an ingredient percentage list for the nutrition bar using python.\n",
        "\n",
        "Equipped with the knowledge of int, float and booleans in python, how would you approach this situation?"
      ],
      "metadata": {
        "id": "qEICqapxUkVB"
      }
    },
    {
      "cell_type": "code",
      "source": [
        "#Given weights of ingredients in grams"
      ],
      "metadata": {
        "id": "P8hetgPGdoDl"
      },
      "execution_count": null,
      "outputs": []
    },
    {
      "cell_type": "code",
      "source": [
        "raisins= 45\n",
        "almonds= 65\n",
        "apricots=30\n",
        "\n",
        "# Calculate the percentage of each ingredient\n",
        "\n",
        "percentage_raisins = raisins/(raisins+almonds+apricots)*100\n",
        "print(percentage_raisins)\n",
        "\n",
        "percentage_almonds = almonds/(raisins+almonds+apricots)*100\n",
        "print(percentage_almonds)\n",
        "\n",
        "percentage_apriconts = apricots/(raisins+almonds+apricots)*100\n",
        "print(percentage_apriconts)"
      ],
      "metadata": {
        "colab": {
          "base_uri": "https://localhost:8080/"
        },
        "id": "I1dTsmu5730H",
        "outputId": "143ffba3-e163-49fc-8bc3-3d10d8a0e2c3"
      },
      "execution_count": null,
      "outputs": [
        {
          "output_type": "stream",
          "name": "stdout",
          "text": [
            "32.142857142857146\n",
            "46.42857142857143\n",
            "21.428571428571427\n"
          ]
        }
      ]
    },
    {
      "cell_type": "markdown",
      "source": [
        "## Measuring the Accuracy of a Disease Detection Model- Optional\n",
        "\n",
        "If you're not impressed with these usecases yet, understand that you're just getting started with python. Going forward as a data scientist, you'll be using what you've learned to design machine learning models that just might even save lives!!\n",
        "\n",
        "Let's say you have created a machine learning model to detect diseases in patients based on their symptoms and medical history. The model has been tested on a dataset of **100 patients**, including **30 with diabetes**, **45 with heart disease**, and **25 with cancer**.\n",
        "The model's performance was evaluated in three rounds.\n",
        "In the first round, the model correctly **detected diabetes in 25 out of the 30 patients** with the disease.\n",
        "In the second round, the model correctly detected **heart disease in 35 out of the 45 patients** with the disease.\n",
        "In the final round, the model correctly **detected cancer in 20 out of the 25 patients** with the disease.\n",
        "\n",
        "The model's accuracy is defined as the percentage of correctly detected cases out of the total number of patient\n",
        "\n",
        "Assess how accurate your model is across these 3 diseases.\n"
      ],
      "metadata": {
        "id": "9Y3kSoUHVOGj"
      }
    },
    {
      "cell_type": "code",
      "source": [
        "total_heart_disease = 45\n",
        "heart_disease = 35\n",
        "correct_guesses = (heart_disease/total_heart_disease)*100\n",
        "print(\"correct guesses of heart disease patients:\",correct_guesses)\n",
        "\n",
        "\n",
        "total_diabetes = 30\n",
        "diabetes = 25\n",
        "correct_guesses =(diabetes/total_diabetes)*100\n",
        "print(\"correct guesses of diabetes patients:\",correct_guesses)\n",
        "\n",
        "total_cancer = 25\n",
        "cancer = 20\n",
        "correct_guesses = (cancer/total_cancer)*100\n",
        "print(\"correct guesses of cancer patients:\",correct_guesses)\n"
      ],
      "metadata": {
        "colab": {
          "base_uri": "https://localhost:8080/"
        },
        "id": "5McuxZw18Fa0",
        "outputId": "a5052c2a-b07a-44a7-d562-8e47dd205f26"
      },
      "execution_count": null,
      "outputs": [
        {
          "output_type": "stream",
          "name": "stdout",
          "text": [
            "correct guesses of heart disease patients: 77.77777777777779\n",
            "correct guesses of diabetes patients: 83.33333333333334\n",
            "correct guesses of cancer patients: 80.0\n"
          ]
        }
      ]
    },
    {
      "cell_type": "markdown",
      "source": [
        "You must remember the algebraic equations and functions you came across during your school days. If you do, you also must remember how tedious it was to do solve them manually. 😫\n",
        "Consider a quadratic function:\n",
        "\n",
        "***f(x)=x^2+3x-4***\n",
        "\n",
        "Find the value of f(x) at x =3 , x=-2, and x=4\n",
        "\n",
        "Doing this manually like the old days would be a tedious job 😞. But now you have python at your disposal 🙂 !\n",
        "How would you approach this problem using what you have learned?\n"
      ],
      "metadata": {
        "id": "_qhDAZQsSvPv"
      }
    },
    {
      "cell_type": "code",
      "source": [
        "# Calculate the value of the function f(x) at x = 3\n",
        "\n",
        "x=3\n",
        "func_evaluated_at_3 = x**2 + 3*x - 4\n",
        "print(\"func_evaluated_at_3:\",func_evaluated_at_3)\n",
        "\n",
        "x=-2\n",
        "func_evaluated_at_minus2 = x**2 + 3*x - 4\n",
        "print(\"func_evaluated_at_minus2:\",func_evaluated_at_minus2)\n",
        "\n",
        "x=4\n",
        "func_evaluated_at_4 = x**2 + 3*x - 4\n",
        "print(\"func_evaluated_at_4:\",func_evaluated_at_4)"
      ],
      "metadata": {
        "id": "IJ0-R3Cw8TNZ"
      },
      "execution_count": null,
      "outputs": []
    },
    {
      "cell_type": "code",
      "source": [
        "# Check if func_evaluated_at_3 >= func_evaluated_at_minus2\n",
        "func_evaluated_at_3 >= func_evaluated_at_minus2\n"
      ],
      "metadata": {
        "colab": {
          "base_uri": "https://localhost:8080/"
        },
        "id": "i8_aXH3yphhl",
        "outputId": "2f756eff-c493-4391-8e18-6958454737d9"
      },
      "execution_count": null,
      "outputs": [
        {
          "output_type": "execute_result",
          "data": {
            "text/plain": [
              "True"
            ]
          },
          "metadata": {},
          "execution_count": 13
        }
      ]
    },
    {
      "cell_type": "code",
      "source": [
        "#Check if value of f(x) at 3,-2 or 4 is equal to 0 or not\n",
        "func_evaluated_at_3 and func_evaluated_at_minus2 and func_evaluated_at_4 == 0"
      ],
      "metadata": {
        "colab": {
          "base_uri": "https://localhost:8080/"
        },
        "id": "h95xU-wBqkyG",
        "outputId": "f27adf82-b96a-47af-8cf1-6467ffb6c255"
      },
      "execution_count": null,
      "outputs": [
        {
          "output_type": "execute_result",
          "data": {
            "text/plain": [
              "False"
            ]
          },
          "metadata": {},
          "execution_count": 14
        }
      ]
    },
    {
      "cell_type": "markdown",
      "source": [
        "## Finding total A's in the Bookshelves\n",
        "\n",
        "In your pursuit of expanding your knowledge of Python, you come across a bookstore in search of books on the subject.\n",
        "\n",
        "There, you meet a salesperson who is also a Python enthusiast!!\n",
        "\n",
        "The salesperson presents you with a challenge - they have a list of five books related to Python and if you can write a program that finds the count of letter 'e', the store will give you a free book of your choice. 😀\n",
        "\n",
        "Are you ready to accept the challenge? 💪"
      ],
      "metadata": {
        "id": "kyKx-MLZHsoh"
      }
    },
    {
      "cell_type": "markdown",
      "source": [
        "When analyzing exam scores, teachers have the power to unlock valuable insights into their students' performance. By using the mean and median, they can get a clear picture of how the class is doing as a whole and identify areas where improvement is needed.\n",
        "\n",
        "The mean score is like a report card for the entire class, showing the average of all exam scores. It gives a good general idea of how the class is doing but can be influenced by a few students with extremely high or low scores.\n",
        "\n",
        "By analysing the mean, teachers can get a complete picture of the class performance and make informed decisions to improve the learning experience for their students. So go ahead and use these powerful tools to take your students' exam scores to the next level! 💪"
      ],
      "metadata": {
        "id": "JQOrvXKEwJgy"
      }
    },
    {
      "cell_type": "code",
      "source": [
        "books = \"Python for Everyone, Learn Python the Hard Way, Python Crash Course , Starting Out with Python, Automate the Boring Stuff with Python\"\n",
        "\n",
        "a_counts = 0\n",
        "if \"a\" in books :\n",
        "  a_counts+=1\n",
        "  print(a_counts )\n",
        "\n",
        "A_counts= 0\n",
        "if \"A\" in books :\n",
        "  A_counts+=1\n",
        "  print(A_counts)\n",
        "total_a_counts = a_counts+ A_counts\n",
        "print(f\"The total number of 'a's in the list of books is {total_a_counts} \")"
      ],
      "metadata": {
        "colab": {
          "base_uri": "https://localhost:8080/"
        },
        "id": "jKhWBU3x8sRo",
        "outputId": "f3fa6451-23fb-423e-f8e0-d7c5e930a48f"
      },
      "execution_count": null,
      "outputs": [
        {
          "output_type": "stream",
          "name": "stdout",
          "text": [
            "1\n",
            "1\n",
            "The total number of 'a's in the list of books is 2 \n"
          ]
        }
      ]
    },
    {
      "cell_type": "markdown",
      "source": [
        "## Unleashing the Power of Mean in Exam Analysis"
      ],
      "metadata": {
        "id": "BUzHV9sfvemq"
      }
    },
    {
      "cell_type": "markdown",
      "source": [
        "When analyzing exam scores, teachers have the power to unlock valuable insights into their students' performance. By using the mean and median, they can get a clear picture of how the class is doing as a whole and identify areas where improvement is needed.\n",
        "\n",
        "The mean score is like a report card for the entire class, showing the average of all exam scores. It gives a good general idea of how the class is doing but can be influenced by a few students with extremely high or low scores.\n",
        "\n",
        "By analysing the mean, teachers can get a complete picture of the class performance and make informed decisions to improve the learning experience for their students. So go ahead and use these powerful tools to take your students' exam scores to the next level! 💪"
      ],
      "metadata": {
        "id": "judf6uga85pD"
      }
    },
    {
      "cell_type": "code",
      "source": [
        "# List of student marks\n",
        "\n",
        "marks = [67,87,75,46,89,97,68,98,87,88]"
      ],
      "metadata": {
        "id": "qTEXZHBxwVP1"
      },
      "execution_count": null,
      "outputs": []
    },
    {
      "cell_type": "code",
      "source": [
        "# Calculate the mean of the marks. Use sum() and len() functions\n",
        "mean_marks = sum(marks)/len(marks)"
      ],
      "metadata": {
        "id": "9BpBKVXFw4Mg"
      },
      "execution_count": null,
      "outputs": []
    },
    {
      "cell_type": "code",
      "source": [
        "print(mean_marks)"
      ],
      "metadata": {
        "id": "XQ1cL8mCpfeS",
        "colab": {
          "base_uri": "https://localhost:8080/"
        },
        "outputId": "a23c30ad-369c-4277-f12d-8be6ca335957"
      },
      "execution_count": null,
      "outputs": [
        {
          "output_type": "stream",
          "name": "stdout",
          "text": [
            "80.2\n"
          ]
        }
      ]
    },
    {
      "cell_type": "markdown",
      "source": [
        "\n",
        "## John's Fruit Stand Sales Mix-up\n",
        "\n",
        "You must remember from the previous lessons that dictionaries can be used to store values corresponding to a particular key. But how is this helpful to us?\n",
        "\n",
        "Let's look at this scenario:\n",
        "\n",
        "Jim owns a quaint little fruit stand that sells mangoes, bananas, apples, and pineapples. One day, with Jim being tied up, he tasked his son John to manage the shop for a day. Being new to the game, John recorded the sales data in an unconventional way. He wrote down the name of each fruit as many times as it was sold, creating a list like this:\n",
        "\n",
        "**['Mango','Mango','Mango','Pineapple','Pineapple','Pineapple','Apple','Mango','Banana','Apple','Banana','Apple','Pineapple','Apple','Apple','Pineapple','Pineapple']**\n",
        "🤦\n",
        "\n",
        "But, this method is not very efficient or easy to read.\n",
        "\n",
        "Forunately you were there at the shop to grab some apples yourselves, and you saw what John was doing.\n",
        "\n",
        "You can help him out to structure the data by using dictionaries. How?\n",
        "\n"
      ],
      "metadata": {
        "id": "iOZMEc3KtdsM"
      }
    },
    {
      "cell_type": "code",
      "execution_count": null,
      "metadata": {
        "id": "lqRlffflqcUg"
      },
      "outputs": [],
      "source": [
        "#Here's John's list:\n",
        "fruit_list=['Mango','Mango','Mango','Pineapple','Pineapple','Pineapple','Apple','Mango','Banana','Apple','Banana','Apple','Pineapple','Apple','Apple','Pineapple','Pineapple']"
      ]
    },
    {
      "cell_type": "code",
      "source": [
        "# Step 2: Create an empty dictionary which will contain the unique fruit names\n",
        "fruit_dict={}\n",
        "\n",
        "# Set the values for each key separately\n",
        "\n",
        "# First Key\n",
        "fruit_dict['Mango']=fruit_list.count(\"Mango\")\n",
        "\n",
        "# Second Key\n",
        "fruit_dict['Pineapple']=fruit_list.count(\"Pineapple\")\n",
        "\n",
        "# Third Key\n",
        "fruit_dict['Apple']=fruit_list.count(\"Apple\")\n",
        "\n",
        "# Fourth Key\n",
        "fruit_dict['Banana']=fruit_list.count(\"Banana\")"
      ],
      "metadata": {
        "id": "zP1dXujAD_GA"
      },
      "execution_count": null,
      "outputs": []
    },
    {
      "cell_type": "code",
      "source": [
        "print(fruit_dict)"
      ],
      "metadata": {
        "id": "oy02z7prygYo",
        "colab": {
          "base_uri": "https://localhost:8080/",
          "height": 141
        },
        "outputId": "fb01f8cc-7ca1-446c-a86d-6a5c54272f31"
      },
      "execution_count": null,
      "outputs": [
        {
          "output_type": "error",
          "ename": "NameError",
          "evalue": "name 'fruit_dict' is not defined",
          "traceback": [
            "\u001b[0;31m---------------------------------------------------------------------------\u001b[0m",
            "\u001b[0;31mNameError\u001b[0m                                 Traceback (most recent call last)",
            "\u001b[0;32m<ipython-input-3-f6b181afcb10>\u001b[0m in \u001b[0;36m<cell line: 1>\u001b[0;34m()\u001b[0m\n\u001b[0;32m----> 1\u001b[0;31m \u001b[0mprint\u001b[0m\u001b[0;34m(\u001b[0m\u001b[0mfruit_dict\u001b[0m\u001b[0;34m)\u001b[0m\u001b[0;34m\u001b[0m\u001b[0;34m\u001b[0m\u001b[0m\n\u001b[0m",
            "\u001b[0;31mNameError\u001b[0m: name 'fruit_dict' is not defined"
          ]
        }
      ]
    },
    {
      "cell_type": "markdown",
      "source": [
        "## Imagine that you are a superhero movie buff and you're trying to create a list of the most iconic Marvel characters. You have compiled a list of some of the most popular characters, but you want to narrow it down to the top 6.\n",
        "\n",
        "Here's your list of characters:\n",
        "\n",
        "marvel_words = ['Avengers', 'X-Men', 'Spider-Man', 'Iron Man', 'Hulk', 'Thor', 'Black Widow', 'Captain America', 'Wolverine', 'Doctor Strange', 'Namor']\n"
      ],
      "metadata": {
        "id": "4xWhhMD7lFiO"
      }
    },
    {
      "cell_type": "code",
      "source": [
        "# Here's your list of characters:\n",
        "\n",
        "marvel_words = ['Avengers', 'X-Men', 'Spider-Man', 'Iron Man', 'Hulk', 'Thor', 'Black Widow', 'Captain America', 'Wolverine', 'Doctor Strange', 'Namor']\n"
      ],
      "metadata": {
        "id": "wecbawDhmHhv"
      },
      "execution_count": null,
      "outputs": []
    },
    {
      "cell_type": "code",
      "source": [
        "# Replace x with appropriate values\n",
        "new_marvel=marvel_words[-1:-7:-1]\n",
        "print(new_marvel)"
      ],
      "metadata": {
        "colab": {
          "base_uri": "https://localhost:8080/"
        },
        "id": "TBSwv-55whec",
        "outputId": "f9d4e8a2-e4fe-4c49-b094-8e5be4df0cbd"
      },
      "execution_count": null,
      "outputs": [
        {
          "output_type": "stream",
          "name": "stdout",
          "text": [
            "['Namor', 'Doctor Strange', 'Wolverine', 'Captain America', 'Black Widow', 'Thor']\n"
          ]
        }
      ]
    },
    {
      "cell_type": "code",
      "source": [
        "team1=marvel_words[1: :2]\n",
        "print(team1)\n",
        "\n",
        "team2=marvel_words[: :2]\n",
        "print(team2)"
      ],
      "metadata": {
        "colab": {
          "base_uri": "https://localhost:8080/"
        },
        "id": "3MmCfIP2xBDs",
        "outputId": "7afc3375-2390-4558-ea24-8dd38d6aaf36"
      },
      "execution_count": null,
      "outputs": [
        {
          "output_type": "stream",
          "name": "stdout",
          "text": [
            "['X-Men', 'Iron Man', 'Thor', 'Captain America', 'Doctor Strange']\n",
            "['Avengers', 'Spider-Man', 'Hulk', 'Black Widow', 'Wolverine', 'Namor']\n"
          ]
        }
      ]
    },
    {
      "cell_type": "markdown",
      "source": [
        "###3. Store the word 'Spider-Man' in a new variable, and slice the word 'Spider' from it."
      ],
      "metadata": {
        "id": "-mQM5JHjm_pS"
      }
    },
    {
      "cell_type": "code",
      "source": [
        "spider_man=marvel_words[2] # Add appropriate index number\n",
        "spidey_sliced=spider_man[: :-1] # Add appropriate index number\n",
        "print(spidey_sliced)\n"
      ],
      "metadata": {
        "colab": {
          "base_uri": "https://localhost:8080/"
        },
        "id": "l4iFiIPYyLLK",
        "outputId": "69903b04-95fd-43f8-b898-379c072d10e7"
      },
      "execution_count": null,
      "outputs": [
        {
          "output_type": "stream",
          "name": "stdout",
          "text": [
            "naM-redipS\n"
          ]
        }
      ]
    },
    {
      "cell_type": "markdown",
      "source": [
        "###4. Store the word 'Iron-Man' in a variable and use reverse indexing to reverse it."
      ],
      "metadata": {
        "id": "K_QHunxknscj"
      }
    },
    {
      "cell_type": "code",
      "source": [
        "iron_man=marvel_words[3]\n",
        "reversed_man=iron_man[::-1]\n",
        "print(reversed_man)"
      ],
      "metadata": {
        "colab": {
          "base_uri": "https://localhost:8080/"
        },
        "id": "OtbeSvZCyr77",
        "outputId": "3d2844cc-2036-4d35-f9c1-ebfd715971c6"
      },
      "execution_count": null,
      "outputs": [
        {
          "output_type": "stream",
          "name": "stdout",
          "text": [
            "naM norI\n"
          ]
        }
      ]
    },
    {
      "cell_type": "markdown",
      "source": [
        "\n",
        "## 🎉 Let's do some math!\n",
        "\n",
        "* 📐 First up, let's calculate the area of a square with sides that measure 5 cm. 🤔 How much space does this shape occupy?\n",
        "\n",
        "* 🔍 Next, let's find the volume of a cube with sides that measure 12 cm. 📏 How much room does this shape take up?\n",
        "\n",
        "* 🔢 Lastly, we'll find the quotient and remainder when we divide 10 by 4. 🧐 How many times does 4 fit into 10? What's left over?"
      ],
      "metadata": {
        "id": "HNOkGnOhYRdb"
      }
    },
    {
      "cell_type": "code",
      "source": [
        "side_1= 5\n",
        "ar_square= side_1*side_1\n",
        "print(ar_square)\n",
        "\n",
        "side_2= 12\n",
        "vol_cube=side_2**3\n",
        "print(vol_cube)\n",
        "\n",
        "quotient= 10//4\n",
        "print(quotient)\n",
        "\n",
        "remainder= 10%4\n",
        "print(remainder)"
      ],
      "metadata": {
        "colab": {
          "base_uri": "https://localhost:8080/"
        },
        "id": "d6IXQQXFzBpt",
        "outputId": "1ab19867-72d6-4347-b1fd-b45b5b0a2faa"
      },
      "execution_count": null,
      "outputs": [
        {
          "output_type": "stream",
          "name": "stdout",
          "text": [
            "25\n",
            "1728\n",
            "2\n",
            "2\n"
          ]
        }
      ]
    },
    {
      "cell_type": "markdown",
      "source": [
        "## 📚 Let's practice some comparison operators! Here's a problem for you to solve:\n",
        "\n",
        "🍎 The first basket contains 12 apples, and the second basket contains 8 apples. Use comparison operators to answer the following questions:\n",
        "\n",
        "* Is the number of apples in the first basket greater than the number of apples in the second basket?\n",
        "\n",
        "* Is the number of apples in the second basket less than or equal to the number of apples in the first basket?\n",
        "* Is the number of apples in the first basket equal to the number of apples in the second basket?\n",
        "* Is the number of apples in the second basket not equal to the number of apples in the first basket?\n",
        "\n",
        "Use comparison operators (i.e. >, >=, <, <=, ==, !=) in your code to answer each question. Good luck! 🍎🍏"
      ],
      "metadata": {
        "id": "nAX2nLAZWpKI"
      }
    },
    {
      "cell_type": "code",
      "source": [
        "basket1=12\n",
        "basket2=8\n",
        "a = basket1>basket2\n",
        "print(a)\n",
        "\n",
        "b = basket1>=basket2\n",
        "print(b)\n",
        "\n",
        "c = basket1==basket2\n",
        "print(c)\n",
        "\n",
        "d = basket1!=basket2\n",
        "print(d)\n"
      ],
      "metadata": {
        "colab": {
          "base_uri": "https://localhost:8080/"
        },
        "id": "PY9C42Ex0w_w",
        "outputId": "1192e610-30d9-4886-b96b-b7db33d86610"
      },
      "execution_count": null,
      "outputs": [
        {
          "output_type": "stream",
          "name": "stdout",
          "text": [
            "True\n",
            "True\n",
            "False\n",
            "True\n"
          ]
        }
      ]
    },
    {
      "cell_type": "markdown",
      "source": [
        "## 🌴 Are you ready for your trip to Goa? 🌊 You've got two bags with you, and you need to make sure they're light enough to board the flight. Let's use some logical operators to find out if you can make it on time!\n",
        "\n",
        "🧳 One of your bags weighs 15 kg, while the other one weighs only 5 kg. 💪 You know you can pack a lot more in the heavier bag, but you have to be careful not to go over the weight limit.\n",
        "\n",
        "👮‍♀️ The airline has a strict policy that both of your bags must weigh less than 13 kg each. Can you make it on the flight? Let's use logical operators to find out!"
      ],
      "metadata": {
        "id": "7_yNqud-j1TS"
      }
    },
    {
      "cell_type": "code",
      "source": [
        "bag1_weight = 15\n",
        "bag2_weight = 5\n",
        "\n",
        "if bag1_weight < 13 and bag2_weight < 13:\n",
        "  print(\"Enjoy your trip!\")\n",
        "else:\n",
        "    print(\"Sorry, You can not go through!\")"
      ],
      "metadata": {
        "colab": {
          "base_uri": "https://localhost:8080/"
        },
        "id": "umE7imWV2dyw",
        "outputId": "c72bca8e-0237-4bd6-8089-e9ef7b3f5f26"
      },
      "execution_count": null,
      "outputs": [
        {
          "output_type": "stream",
          "name": "stdout",
          "text": [
            "Sorry, You can not go through!\n"
          ]
        }
      ]
    },
    {
      "cell_type": "markdown",
      "source": [
        "## 📚 Imagine that you're a book lover with a collection of lot of books. 🤓\n",
        "\n",
        "🔎 You need to find out how many of your books contain the word \"Python\" in them. 🐍"
      ],
      "metadata": {
        "id": "0yVUrg0NLnxz"
      }
    },
    {
      "cell_type": "code",
      "source": [
        "books = [\n",
        "    \"Python for Data Science Handbook by Jake VanderPlas\",\n",
        "    \"The Pragmatic Programmer by Andrew Hunt and David Thomas\",\n",
        "    \"Python Machine Learning by Sebastian Raschka\",\n",
        "    \"The Alchemist by Paulo Coelho\",\n",
        "]\n",
        "\n",
        "count = 0\n",
        "for book in books :\n",
        "  if \"Python\" in book:\n",
        "    count+=1\n",
        "print(count)"
      ],
      "metadata": {
        "colab": {
          "base_uri": "https://localhost:8080/"
        },
        "id": "zzoGaVYD3yym",
        "outputId": "c63fa975-e31a-4748-bb69-9e81848df012"
      },
      "execution_count": null,
      "outputs": [
        {
          "output_type": "stream",
          "name": "stdout",
          "text": [
            "2\n"
          ]
        }
      ]
    },
    {
      "cell_type": "markdown",
      "source": [
        "# **In-Built Functions & Methods**"
      ],
      "metadata": {
        "id": "B80a_pgbGRll"
      }
    },
    {
      "cell_type": "markdown",
      "source": [
        "## Here is a string for you to work with:"
      ],
      "metadata": {
        "id": "rg1rF2AJqlrU"
      }
    },
    {
      "cell_type": "code",
      "source": [
        "statement = \"anas eagerly recommended 'the shawshank redemption' to his friends. He described the movie as a captivating and emotional story of hope and friendship. His friends decided to watch it together the following weekend.\"\n",
        "print(statement)\n"
      ],
      "metadata": {
        "colab": {
          "base_uri": "https://localhost:8080/"
        },
        "id": "_F7Ruw35AgbO",
        "outputId": "70725a36-d27d-4d46-af47-dec5a3a4b438"
      },
      "execution_count": null,
      "outputs": [
        {
          "output_type": "stream",
          "name": "stdout",
          "text": [
            "anas eagerly recommended 'the shawshank redemption' to his friends. He described the movie as a captivating and emotional story of hope and friendship. His friends decided to watch it together the following weekend.\n"
          ]
        }
      ]
    },
    {
      "cell_type": "markdown",
      "source": [
        "1. Create a list containing the three sentences in the statement.\n",
        "Hint: Use split() method."
      ],
      "metadata": {
        "id": "eWwJCSZcrGQr"
      }
    },
    {
      "cell_type": "code",
      "source": [
        "sentence_list= statement.split('.')\n",
        "print(sentence_list)"
      ],
      "metadata": {
        "colab": {
          "base_uri": "https://localhost:8080/"
        },
        "id": "EWcmyS6tBJD4",
        "outputId": "e4de76df-fb0f-4159-c7b8-284afc53d6c0"
      },
      "execution_count": null,
      "outputs": [
        {
          "output_type": "stream",
          "name": "stdout",
          "text": [
            "[\"anas eagerly recommended 'the shawshank redemption' to his friends\", ' He described the movie as a captivating and emotional story of hope and friendship', ' His friends decided to watch it together the following weekend', '']\n"
          ]
        }
      ]
    },
    {
      "cell_type": "markdown",
      "source": [
        "2. The name 'anas' is spelled wrong. Replace it with 'Anas'."
      ],
      "metadata": {
        "id": "lutxbv7crjLV"
      }
    },
    {
      "cell_type": "code",
      "source": [
        "# The name 'anas' is spelled wrong.\n",
        "# Replace it with 'Anas'.\n",
        "\n",
        "statement= statement.replace(\"anas\",\"Anas\")  #Redefine the statement, with the correction.\n",
        "print(statement)"
      ],
      "metadata": {
        "colab": {
          "base_uri": "https://localhost:8080/"
        },
        "id": "G9Hknd2eBlDn",
        "outputId": "68171924-af90-44bb-e8f4-7933791bc59c"
      },
      "execution_count": null,
      "outputs": [
        {
          "output_type": "stream",
          "name": "stdout",
          "text": [
            "Anas eagerly recommended 'the shawshank redemption' to his friends. He described the movie as a captivating and emotional story of hope and friendship. His friends decided to watch it together the following weekend.\n"
          ]
        }
      ]
    },
    {
      "cell_type": "markdown",
      "source": [
        "3. The title of the book is not written in the correct cases as well. Make corrections there."
      ],
      "metadata": {
        "id": "HaY-Pmgrr14E"
      }
    },
    {
      "cell_type": "code",
      "source": [
        "# Make corrections here.\n",
        "statement=statement.title()\n",
        "print(statement)"
      ],
      "metadata": {
        "colab": {
          "base_uri": "https://localhost:8080/"
        },
        "id": "C4eECGT-B5K0",
        "outputId": "943fd6d5-ee7f-470e-eaa1-b269b6ecb22d"
      },
      "execution_count": null,
      "outputs": [
        {
          "output_type": "stream",
          "name": "stdout",
          "text": [
            "Anas Eagerly Recommended 'The Shawshank Redemption' To His Friends. He Described The Movie As A Captivating And Emotional Story Of Hope And Friendship. His Friends Decided To Watch It Together The Following Weekend.\n"
          ]
        }
      ]
    },
    {
      "cell_type": "markdown",
      "source": [
        "4. You believe \"The Shawshank Redemption\" would be bit too gloomy for the lot. Take user input of which movie to recommend and replace \"The Shawshank Redemption\" from the statement with the new recommendation."
      ],
      "metadata": {
        "id": "g7-df8O_sa8w"
      }
    },
    {
      "cell_type": "code",
      "source": [
        "# Change the recommendation of movie to one, of your choice.\n",
        "# Take input of movie\n",
        "\n",
        "new_movie=input(\"Which movie wold you recommend? \")\n",
        "statement=statement.replace(\"The Shawshank Redemption\",new_movie)\n",
        "print(statement)"
      ],
      "metadata": {
        "colab": {
          "base_uri": "https://localhost:8080/"
        },
        "id": "cx4Iy-1ZFI0n",
        "outputId": "9d673bd1-1fab-4eb2-b993-f56b10820fc2"
      },
      "execution_count": null,
      "outputs": [
        {
          "output_type": "stream",
          "name": "stdout",
          "text": [
            "Which movie wold you recommend? shree ram\n",
            "Anas Eagerly Recommended 'shree ram' To His Friends. He Described The Movie As A Captivating And Emotional Story Of Hope And Friendship. His Friends Decided To Watch It Together The Following Weekend.\n"
          ]
        }
      ]
    },
    {
      "cell_type": "markdown",
      "source": [
        "## 🎥 Suppose you have a collection of your favorite movies 🍿🎞️ and you want to keep track of them using a Python list 📜. You start with an empty list [] and keep adding new movies 🆕 to it. You also want to be able to remove movies ❌ that you have watched or no longer wish to keep in your collection. Finally, you want to be able to count 🔢 how many movies you have in your collection and reverse the order of the list 🔄."
      ],
      "metadata": {
        "id": "qCn4QduqtXLg"
      }
    },
    {
      "cell_type": "code",
      "source": [
        "# Start with an empty list\n",
        "movie_collection = []\n",
        "\n",
        "# Add some movies to the collection using the append() method\n",
        "movie_collection.append(\"Gadar 2\") # Use your favourite movie names\n",
        "movie_collection.append(\"Mission Raniganj\")\n",
        "movie_collection.append(\"Dharmaveer\")\n",
        "movie_collection.append(\"Bajirao Mastani\")\n",
        "movie_collection.append(\"Shershiwraj\")\n",
        "\n",
        "# Print the current collection of movies\n",
        "print(\"My Movie Collection:\", movie_collection)\n",
        "\n",
        "# Remove a movie from the collection using the pop() method\n",
        "# Code to remove index 3 here\n",
        "movie_collection.pop(3)\n",
        "print(\"After removing movie 4\", movie_collection)\n",
        "\n",
        "# Count how many movies are in the collection using the count() method\n",
        "num_movies = len(movie_collection)\n",
        "print(\"Number of movies:\", num_movies)\n",
        "\n",
        "# Reverse the order of the list using the reverse() method\n",
        "movie_collection.reverse()\n",
        "print(\"Reversed movie collection:\", movie_collection)"
      ],
      "metadata": {
        "colab": {
          "base_uri": "https://localhost:8080/"
        },
        "id": "RIcKbQK9IjPN",
        "outputId": "59b213c5-2b3f-4a91-91ed-dfd0431c8d82"
      },
      "execution_count": null,
      "outputs": [
        {
          "output_type": "stream",
          "name": "stdout",
          "text": [
            "My Movie Collection: ['Gadar 2', 'Mission Raniganj', 'Dharmaveer', 'Bajirao Mastani', 'Shershiwraj']\n",
            "After removing movie 4 ['Gadar 2', 'Mission Raniganj', 'Dharmaveer', 'Shershiwraj']\n",
            "Number of movies: 4\n",
            "Reversed movie collection: ['Shershiwraj', 'Dharmaveer', 'Mission Raniganj', 'Gadar 2']\n"
          ]
        }
      ]
    },
    {
      "cell_type": "markdown",
      "source": [
        "## 👩‍🏫 A teacher has stored the names of his students in a tuple as follows:\n",
        "('Adam','Alice','Ben','Bilal','Bharath')\n",
        "\n",
        "👨‍🎓 Their role numbers are defined as their index number + 1.\n",
        "\n",
        "🖥️ Write a program which would take the name of the student as input and return their role number."
      ],
      "metadata": {
        "id": "uEY4_vNcvEZj"
      }
    },
    {
      "cell_type": "code",
      "source": [
        "student_tupple=('Adam','Alice','Ben','Bilal','Bharath')\n",
        "student=input(\"Input the student name to get roll number - \")\n",
        "print(student,\"'s roll number is: \", student_tupple.index(student)+1)"
      ],
      "metadata": {
        "colab": {
          "base_uri": "https://localhost:8080/"
        },
        "id": "Xmm4ktw-JVuC",
        "outputId": "1b6fc33b-19b0-4dd5-ad1c-291415056425"
      },
      "execution_count": null,
      "outputs": [
        {
          "output_type": "stream",
          "name": "stdout",
          "text": [
            "Input the student name to get roll number - Ben\n",
            "Ben 's roll number is:  3\n"
          ]
        }
      ]
    },
    {
      "cell_type": "markdown",
      "source": [
        "## A store 🏪 sells different types of fruits 🍎🍌🍇🍓 in baskets 🧺. The storekeeper 🧑 keeps track of the availability of each fruit type in separate sets. The storekeeper wants to know which fruits are available in both baskets, which fruits are unique to each basket, and the total number of fruits available. 🤔"
      ],
      "metadata": {
        "id": "8fz0W273yMnA"
      }
    },
    {
      "cell_type": "code",
      "source": [
        "# Define sets for fruits in each basket\n",
        "basket1 = {'apple', 'banana', 'grape', 'orange'}\n",
        "basket2 = {'banana', 'mango', 'pineapple', 'orange'}\n",
        "\n",
        "# Find the total number of fruits available\n",
        "total_fruits = len(basket1) + len( basket2)\n",
        "print(\"Total number of fruits available:\", total_fruits)\n",
        "\n",
        "# Find fruits available in both baskets\n",
        "both_baskets = basket1 | basket2   # Replace x with appropriate method\n",
        "print(\"All the available fruits:\", both_baskets)\n",
        "\n",
        "# Find only the common fruits in both baskets\n",
        "common_fruits = basket1 & basket2   # Replace x with appropriate method\n",
        "print(\"Common fruits in both baskets:\", common_fruits)\n",
        "\n",
        "# Find fruits unique to each basket\n",
        "unique_basket2 = basket2 - basket1    # Replace x with appropriate method\n",
        "print(\"Fruits unique to basket 2:\", unique_basket2)\n",
        "\n",
        "\n"
      ],
      "metadata": {
        "colab": {
          "base_uri": "https://localhost:8080/"
        },
        "id": "KFv5WsxOLMqA",
        "outputId": "64d8af9b-99a9-4b62-d1b6-b2c96d94a116"
      },
      "execution_count": null,
      "outputs": [
        {
          "output_type": "stream",
          "name": "stdout",
          "text": [
            "Total number of fruits available: 8\n",
            "All the available fruits: {'orange', 'apple', 'banana', 'grape', 'pineapple', 'mango'}\n",
            "Common fruits in both baskets: {'orange', 'banana'}\n",
            "Fruits unique to basket 2: {'pineapple', 'mango'}\n"
          ]
        }
      ]
    },
    {
      "cell_type": "markdown",
      "source": [
        "# **Statements, Indentation & Conditionals**"
      ],
      "metadata": {
        "id": "gklgsrl6kIW8"
      }
    },
    {
      "cell_type": "markdown",
      "source": [
        "## 👉 Imagine that you are a food inspector who is responsible for inspecting the lead content of a packaged food material at a factory. If the content exceeds 5%, you should print the message \"This batch cannot be approved\".\n"
      ],
      "metadata": {
        "id": "ByhB8JrbeqQB"
      }
    },
    {
      "cell_type": "code",
      "source": [
        "# Get the lead content of the packaged food material\n",
        "lead_content = float(input(\"Please enter the lead content of the packaged food material in percentage: \"))\n",
        "\n",
        "# Check if the lead content exceeds 5%\n",
        "if lead_content > 5:\n",
        "  print(\"This batch cannot be approved\")\n",
        "else:\n",
        "  print(\"This batch is approved\")\n"
      ],
      "metadata": {
        "colab": {
          "base_uri": "https://localhost:8080/"
        },
        "id": "0FvanWNyM7hX",
        "outputId": "b17e4750-8bcb-447f-af7d-8613b92f0ea9"
      },
      "execution_count": null,
      "outputs": [
        {
          "output_type": "stream",
          "name": "stdout",
          "text": [
            "Please enter the lead content of the packaged food material in percentage: 5\n",
            "This batch is approved\n"
          ]
        }
      ]
    },
    {
      "cell_type": "markdown",
      "source": [
        "## 👉 Imagine: You're a bouncer at a nightclub and need to check if someone is old enough to enter. The legal age for entry is 18 years. If the person is less than 18 years print \"Sorry You can not enter!\"."
      ],
      "metadata": {
        "id": "AbgFO_SEeqQD"
      }
    },
    {
      "cell_type": "code",
      "source": [
        "age = int(input(\"enter the age:\"))\n",
        "if age <= 18 :\n",
        "  print(\"Sorry You can not enter!\")\n",
        "else:\n",
        "  print(\"You are welcome\")"
      ],
      "metadata": {
        "colab": {
          "base_uri": "https://localhost:8080/"
        },
        "id": "2EH5_rFyOc84",
        "outputId": "54e9ab67-19c6-49b6-8471-687460a1aa46"
      },
      "execution_count": null,
      "outputs": [
        {
          "output_type": "stream",
          "name": "stdout",
          "text": [
            "enter the age:19\n",
            "You are welcome\n"
          ]
        }
      ]
    },
    {
      "cell_type": "markdown",
      "source": [
        "## 👉 Imagine you are a fitness instructor who needs to evaluate if a client has reached their weight loss goal. The target weight loss goal is 10 pounds. If the client has lost at least 10 pounds, you should print the message \"Congratulations, you have reached your weight loss goal!\" However, if the client has lost less than 10 pounds, you should print \"Sorry, you have not reached your weight loss goal yet. Keep up the good work!\""
      ],
      "metadata": {
        "id": "fmzxpgNEo1Le"
      }
    },
    {
      "cell_type": "code",
      "source": [
        "# Get the client's weight loss\n",
        "client_weight_loss = float(input(\"Please enter the client's weight loss (in pounds): \"))\n",
        "\n",
        "# Check if the client reached their weight loss goal\n",
        "if client_weight_loss >= 10:\n",
        "  print(\"Congratulations, you have reached your weight loss goal!\")\n",
        "else:\n",
        "    print(\"Sorry, you have not reached your weight loss goal yet. Keep up the good work!\")"
      ],
      "metadata": {
        "colab": {
          "base_uri": "https://localhost:8080/"
        },
        "id": "ZkK8OGQUQ66q",
        "outputId": "5d4777a9-6236-443d-9a37-66a92a1db59d"
      },
      "execution_count": null,
      "outputs": [
        {
          "output_type": "stream",
          "name": "stdout",
          "text": [
            "Please enter the client's weight loss (in pounds): 10\n",
            "Congratulations, you have reached your weight loss goal!\n"
          ]
        }
      ]
    },
    {
      "cell_type": "markdown",
      "source": [
        "##👉 Imagine: You're a gardener and need to check if a plant needs watering. If the soil moisture level is below 40%, print \"Water the plant!\", otherwise, print \"The plant doesn't need watering.\""
      ],
      "metadata": {
        "id": "eLOwny2bprgv"
      }
    },
    {
      "cell_type": "code",
      "source": [
        "# Take input of moisture level\n",
        "moisture_level = int(input(\"Enter moisture level \"))\n",
        "if moisture_level <= 40:\n",
        "  print(\"Water the plant!\")\n",
        "else:\n",
        "  print(\"The plant doesn't need watering.\")"
      ],
      "metadata": {
        "colab": {
          "base_uri": "https://localhost:8080/"
        },
        "id": "NcCdG7nXR6gH",
        "outputId": "828c76fb-74a5-47e2-a643-40b44d6e061e"
      },
      "execution_count": null,
      "outputs": [
        {
          "output_type": "stream",
          "name": "stdout",
          "text": [
            "Enter moisture level 39\n",
            "Water the plant!\n"
          ]
        }
      ]
    },
    {
      "cell_type": "markdown",
      "source": [
        "##📦📬🚚 Creating a shipping cost calculator! ⚙️\n",
        "\n",
        "You need to create a program that calculates the cost of shipping a package based on its weight and destination 📦💰\n",
        "\n",
        "🌍 Domestic shipping within the country :\n",
        "\n",
        "* Packages weighing up to 1 kg cost Rs.50 to ship 🤑\n",
        "Each additional kg costs Rs.10 extra 💰\n",
        "\n",
        "🌎 International shipping to other countries 🌏:\n",
        "\n",
        "* Packages weighing up to 1 kg cost Rs.500 to ship 🤑\n",
        "\n",
        "Each additional kg costs Rs.100 extra 💰\n",
        "Ready to ship? 🚛🚀"
      ],
      "metadata": {
        "id": "XA2dKqlxMVsH"
      }
    },
    {
      "cell_type": "code",
      "source": [
        "def calculate_shipping_cost(weight, destination, is_international):\n",
        "### Determine the initial cost and extra cost per kg based on the destination\n",
        "    if is_international:\n",
        "        initial_cost = 500\n",
        "        extra_cost_per_kg = 100\n",
        "    else:\n",
        "        initial_cost = 50\n",
        "        extra_cost_per_kg = 10\n",
        "#### Check if the weight is up to 1 kg\n",
        "    if weight <= 1:\n",
        "        shipping_cost = initial_cost\n",
        "    else:\n",
        "        extra_weight = weight - 1\n",
        "### Calculate the total shipping cost by adding the initial cost and extra cost for additional weight\n",
        "        shipping_cost = initial_cost + extra_weight * extra_cost_per_kg\n",
        "\n",
        "    return shipping_cost\n",
        "\n",
        "\n",
        "weight = float(input(\"Enter the package weight in kg: \"))\n",
        "destination = input(\"Enter the destination (Domestic or International): \").lower()\n",
        "\n",
        "is_international = (destination == \"international\")\n",
        "\n",
        "\n",
        "shipping_cost = calculate_shipping_cost(weight, destination, is_international)\n",
        "\n",
        "print(f\"The shipping cost for a {weight} kg package to {destination} is Rs.{shipping_cost:.2f}\")\n"
      ],
      "metadata": {
        "colab": {
          "base_uri": "https://localhost:8080/"
        },
        "id": "ih_i8phrzL_V",
        "outputId": "857096fb-8660-4eb2-a86e-2e83c511f97d"
      },
      "execution_count": null,
      "outputs": [
        {
          "output_type": "stream",
          "name": "stdout",
          "text": [
            "Enter the package weight in kg: 50\n",
            "Enter the destination (Domestic or International): domestic\n",
            "The shipping cost for a 50.0 kg package to domestic is Rs.540.00\n"
          ]
        }
      ]
    },
    {
      "cell_type": "markdown",
      "source": [
        "## 🚗 As a car dealership manager, you need to create a discount system for your customers based on the price of the car they want to buy. Here are the rules! 📝\n",
        "\n",
        "🚘 If the car price is less than Rs. 10,00,000, there is no discount.\n",
        "\n",
        "🎁 If the car price is between Rs. 10,00,000 and Rs. 20,00,000, there is a discount of 5%.\n",
        "\n",
        "🎉 If the car price is between Rs. 20,00,000 and Rs. 30,00,000, there is a discount of 7.5%.\n",
        "\n",
        "🥳 If the car price is greater than Rs. 30,00,000, there is a discount of 10%.\n",
        "\n",
        "Are you ready to make your customers happy with these discounts? 🚗💰"
      ],
      "metadata": {
        "id": "gLPLG7NaYofV"
      }
    },
    {
      "cell_type": "code",
      "source": [
        "car_price = int(input(\"Enter your car price:\"))\n",
        "if car_price < 1000000:\n",
        "    discount = car_price\n",
        "    print(\"No discount\")\n",
        "elif 1000000 <= car_price < 2000000:\n",
        "    discount = 0.05 * car_price\n",
        "    print(\"Discount of 5% \")\n",
        "elif 2000000 <= car_price < 3000000:\n",
        "    discount = 0.075 * car_price\n",
        "    print(\"Discount of 7.5%\")\n",
        "else:\n",
        "    discount = 0.10 * car_price\n",
        "    print(\"Discount of 10%\")"
      ],
      "metadata": {
        "colab": {
          "base_uri": "https://localhost:8080/"
        },
        "id": "l0RZTDJh2J2T",
        "outputId": "7b861660-67c6-450e-eeb8-f97560f39937"
      },
      "execution_count": null,
      "outputs": [
        {
          "output_type": "stream",
          "name": "stdout",
          "text": [
            "Enter your car price:1500000\n",
            "Discount of 5% \n"
          ]
        }
      ]
    },
    {
      "cell_type": "markdown",
      "source": [
        "# **Loops & Iterations**"
      ],
      "metadata": {
        "id": "9PNEVRVaIfLS"
      }
    },
    {
      "cell_type": "markdown",
      "source": [
        "## You and your friends are playing a board game where you roll a dice and move your game piece accordingly. However, you want to know the average number rolled by each player to see who's really the luckiest. Write a program that takes a list of rolls as input for each player and uses a for loop to calculate the average roll for each player. The winner gets bragging rights for being the luckiest!\n",
        "\n",
        "\n"
      ],
      "metadata": {
        "id": "QFad4dlHWjvx"
      }
    },
    {
      "cell_type": "code",
      "source": [
        "player_rolls = [\n",
        "    [3, 5, 6, 2, 1],  # player 1's rolls\n",
        "    [4, 4, 6, 3, 2],  # player 2's rolls\n",
        "    [1, 5, 6, 6, 4]   # player 3's rolls\n",
        "] # list of a list"
      ],
      "metadata": {
        "id": "K1WOccuW5JxM"
      },
      "execution_count": null,
      "outputs": []
    },
    {
      "cell_type": "code",
      "source": [
        "new_players = []\n",
        "for i,player in enumerate(player_rolls):\n",
        "  lenght = len(player)\n",
        "  sums = sum(player)\n",
        "  new_players.append(sums/lenght)\n",
        "  print('The average of player',i+1, 'is', sum(player)/len(player))\n",
        "print('Maximum average is', max(new_players))\n"
      ],
      "metadata": {
        "colab": {
          "base_uri": "https://localhost:8080/"
        },
        "id": "B4Sast3n6H_c",
        "outputId": "d27d542e-6a3e-408f-e2fb-ac0a1bc0d036"
      },
      "execution_count": null,
      "outputs": [
        {
          "output_type": "stream",
          "name": "stdout",
          "text": [
            "The average of player 1 is 3.4\n",
            "The average of player 2 is 3.8\n",
            "The average of player 3 is 4.4\n",
            "Maximum average is 4.4\n"
          ]
        }
      ]
    },
    {
      "cell_type": "markdown",
      "source": [
        "## Write a Python program that analyzes a list of names and sorts them into two categories: those that start with a vowel and those that start with a consonant. To achieve this, you'll use a nested loop and some basic conditional statements."
      ],
      "metadata": {
        "id": "VB0b9bivcyKL"
      }
    },
    {
      "cell_type": "code",
      "source": [
        "names = [\"Alice\", \"Bob\", \"Eve\", \"Charlie\", \"Ivy\", \"David\", \"Olivia\", \"Peter\"]"
      ],
      "metadata": {
        "id": "tOEboeq66lA9"
      },
      "execution_count": null,
      "outputs": []
    },
    {
      "cell_type": "code",
      "source": [
        "vowel = []\n",
        "consonant = []\n",
        "for name in names:\n",
        "  if name [0] in \"aeiouAEIOU\":\n",
        "    vowel.append(name)\n",
        "  else:\n",
        "    consonant.append(name)\n",
        "print(vowel)\n",
        "print(consonant)\n"
      ],
      "metadata": {
        "colab": {
          "base_uri": "https://localhost:8080/"
        },
        "id": "oM329gFq6nrs",
        "outputId": "3a9dcae5-5894-4bce-a8c9-dea952bf5a7c"
      },
      "execution_count": null,
      "outputs": [
        {
          "output_type": "stream",
          "name": "stdout",
          "text": [
            "['Alice', 'Eve', 'Ivy', 'Olivia']\n",
            "['Bob', 'Charlie', 'David', 'Peter']\n"
          ]
        }
      ]
    },
    {
      "cell_type": "markdown",
      "source": [
        "## You are a teacher and you have a dictionary containing the grades of your students in a particular subject. The keys of the dictionary are the names of the students, and the values are their respective grades. You need to find the students who scored above 90% and print out their names."
      ],
      "metadata": {
        "id": "-8hkwqg8m8wN"
      }
    },
    {
      "cell_type": "code",
      "source": [
        "# Define the grades dictionary\n",
        "grades = {\n",
        "    'Alice': 85,\n",
        "    'Bob': 92,\n",
        "    'Charlie': 88,\n",
        "    'David': 95,\n",
        "    'Emily': 78,\n",
        "    'Frank': 91\n",
        "}"
      ],
      "metadata": {
        "id": "nrq5Al598j1V"
      },
      "execution_count": null,
      "outputs": []
    },
    {
      "cell_type": "code",
      "source": [
        "for name,grade in grades.items():\n",
        "  if grade  > 90:\n",
        "    print(name,grade)"
      ],
      "metadata": {
        "colab": {
          "base_uri": "https://localhost:8080/"
        },
        "id": "eJS3-1qa8nz8",
        "outputId": "5d4b34b8-0128-45aa-e3e3-9193ef36ab82"
      },
      "execution_count": null,
      "outputs": [
        {
          "output_type": "stream",
          "name": "stdout",
          "text": [
            "Bob 92\n",
            "David 95\n",
            "Frank 91\n"
          ]
        }
      ]
    },
    {
      "cell_type": "markdown",
      "source": [
        "## You're given a nested list of numbers, and your task is to count the number of odd and even numbers in the list. To achieve this, you'll use a nested loop and some basic conditional statements.\n",
        "\n",
        "List - numbers = [\n",
        "    [2, 5, 11, 20, 8],\n",
        "    [9, 4, 15, 28, 17],\n",
        "    [1, 6, 21, 18, 3],\n",
        "    [10, 13, 25, 33, 30],\n",
        "    [14, 7, 16, 19, 22]\n",
        "]"
      ],
      "metadata": {
        "id": "zr6auy0z5TvR"
      }
    },
    {
      "cell_type": "code",
      "source": [
        "# List of numbers\n",
        "numbers = [\n",
        "    [2, 5, 11, 20, 8],\n",
        "    [9, 4, 15, 28, 17],\n",
        "    [1, 6, 21, 18, 3],\n",
        "    [10, 13, 25, 33, 30],\n",
        "    [14, 7, 16, 19, 22]\n",
        "]"
      ],
      "metadata": {
        "id": "YPICyvDG-DqN"
      },
      "execution_count": null,
      "outputs": []
    },
    {
      "cell_type": "code",
      "source": [
        "even = 0\n",
        "odd = 0\n",
        "for li in numbers:\n",
        "  for num in li:\n",
        "    if num % 2 == 0:\n",
        "      even+=1\n",
        "    else:\n",
        "      odd+=1\n",
        "print(even)\n",
        "print(odd)"
      ],
      "metadata": {
        "colab": {
          "base_uri": "https://localhost:8080/"
        },
        "id": "ysbghBi--IsM",
        "outputId": "1e9ad96b-b507-4cd3-95db-7b7b60ea9730"
      },
      "execution_count": null,
      "outputs": [
        {
          "output_type": "stream",
          "name": "stdout",
          "text": [
            "12\n",
            "13\n"
          ]
        }
      ]
    },
    {
      "cell_type": "markdown",
      "source": [
        "## Imagine you're organizing a chess tournament 🏆, where each player has to play against every other player. To achieve this, you can use nested loops in Python! Nested loops are simply loops within loops, and they come in handy when you need to perform tasks involving multiple levels of iteration.\n",
        "\n",
        "In Python, you can nest 'for' loops, 'while' loops, or even a combination of both. Let's take a closer look at how nested loops work using our chess tournament scenario:"
      ],
      "metadata": {
        "id": "zqZRSProCrKH"
      }
    },
    {
      "cell_type": "code",
      "source": [
        "# Write Your Code Here\n",
        "players = ['Alice', 'Bob', 'Charlie', 'Diana']\n",
        "for i in range(len(players)):\n",
        "  for j in range(i+1,len(players)):\n",
        "    print(players[i],players[j])"
      ],
      "metadata": {
        "colab": {
          "base_uri": "https://localhost:8080/"
        },
        "id": "rdvyicGG_zye",
        "outputId": "b100fafe-2652-4ad9-dbd3-c5265a5c17d3"
      },
      "execution_count": null,
      "outputs": [
        {
          "output_type": "stream",
          "name": "stdout",
          "text": [
            "Alice Bob\n",
            "Alice Charlie\n",
            "Alice Diana\n",
            "Bob Charlie\n",
            "Bob Diana\n",
            "Charlie Diana\n"
          ]
        }
      ]
    },
    {
      "cell_type": "markdown",
      "source": [
        "# **Conditional & Infinite Looping**"
      ],
      "metadata": {
        "id": "Q5d2ryJwIrH9"
      }
    },
    {
      "cell_type": "markdown",
      "source": [
        "## **Building a Simple Calculator**\n",
        "\n",
        "In this activity, you will build a simple calculator using conditional looping in Python. The calculator will ask the user for two numbers and an operation (addition, subtraction, multiplication, or division), and then perform the operation on the two numbers."
      ],
      "metadata": {
        "id": "bORtEvsst-Hi"
      }
    },
    {
      "cell_type": "code",
      "source": [
        "# Write code here\n",
        "while True:\n",
        "  num1 = int(input('Enter the first no : '))\n",
        "  num2 = int(input('Enter the second no : '))\n",
        "  operation = input('Enter the operation (+,-,*,/): ').lower()\n",
        "\n",
        "  if operation == '+' or operation == 'addition':\n",
        "    Answer = num1+num2\n",
        "    print(Answer)\n",
        "    break\n",
        "  elif operation == '-' or operation == 'substraction':\n",
        "    Answer = num1 - num2\n",
        "    print(Answer)\n",
        "    break\n",
        "  elif operation == '*' or operation == 'multiplication':\n",
        "    Answer = num1*num2\n",
        "    print(Answer)\n",
        "    break\n",
        "  elif operation == '/' or operation =='division':\n",
        "    if num2 > 0:\n",
        "      Answer = num1/num2\n",
        "      print(Answer)\n",
        "      break\n",
        "    else:\n",
        "      print('Cannot divide by zero')"
      ],
      "metadata": {
        "colab": {
          "base_uri": "https://localhost:8080/"
        },
        "id": "pVYs4j8f_9vf",
        "outputId": "430fb565-a5bf-4a58-a01a-61484919359b"
      },
      "execution_count": null,
      "outputs": [
        {
          "output_type": "stream",
          "name": "stdout",
          "text": [
            "Enter the first no : 5\n",
            "Enter the second no : 5\n",
            "Enter the operation (+,-,*,/): +\n",
            "10\n"
          ]
        }
      ]
    },
    {
      "cell_type": "markdown",
      "source": [
        "## **Building a Guessing Game**\n",
        "\n",
        "In this activity, you will build a simple guessing game using conditional looping in Python. The game will generate a random number between 1 and 100, and the user will have to guess the number within a certain number of tries. The program will provide hints to the user after each guess, telling them whether their guess is too high or too low."
      ],
      "metadata": {
        "id": "BdL16-CWuLGr"
      }
    },
    {
      "cell_type": "code",
      "source": [
        "# Write code here\n",
        "import random\n",
        "\n",
        "# Generate a random number between 1 and 100\n",
        "secret_number = random.randint(1, 100)\n",
        "\n",
        "# Write code here\n",
        "tries = 5\n",
        "count = 0\n",
        "while count < tries:\n",
        "  guess_num = int(input('Guess the number between (1 to 100) - '))\n",
        "  count += 1\n",
        "  if count == 4:\n",
        "    print('You have only one chance left')\n",
        "  if guess_num == secret_number:\n",
        "    print('Congratulation, You guess the correct number.')\n",
        "    break\n",
        "  elif guess_num < secret_number:\n",
        "    print('Guess the higher number.')\n",
        "  elif guess_num > secret_number:\n",
        "    print('Guess the lower number.')\n",
        "\n",
        "if count == 5:\n",
        "    print('Sorry, you missed the chance. The secret number was',secret_number)"
      ],
      "metadata": {
        "colab": {
          "base_uri": "https://localhost:8080/"
        },
        "id": "cFSgUq4Wh6gh",
        "outputId": "19c70134-72ac-487a-c1cf-5903066d3dfa"
      },
      "execution_count": null,
      "outputs": [
        {
          "output_type": "stream",
          "name": "stdout",
          "text": [
            "Guess the number between (1 to 100) - 56\n",
            "Guess the lower number.\n",
            "Guess the number between (1 to 100) - 66\n",
            "Guess the lower number.\n",
            "Guess the number between (1 to 100) - 8\n",
            "Guess the higher number.\n",
            "Guess the number between (1 to 100) - 99\n",
            "You have only one chance left\n",
            "Guess the lower number.\n",
            "Guess the number between (1 to 100) - 1\n",
            "Guess the higher number.\n",
            "Sorry, you missed the chance. The secret number was 46\n"
          ]
        }
      ]
    },
    {
      "cell_type": "markdown",
      "source": [
        "## **Building a Fibonacci Sequence Generator**\n",
        "\n",
        "In this activity, you will build a program that generates a Fibonacci sequence using conditional looping in Python. The Fibonacci sequence is a series of numbers in which each number is the sum of the two preceding numbers. The sequence starts with 0 and 1, and the next number in the sequence is the sum of the previous two numbers."
      ],
      "metadata": {
        "id": "CxWXvkMLuVys"
      }
    },
    {
      "cell_type": "code",
      "source": [
        "def generate_fibonacci(limit):\n",
        "    fib_sequence = []\n",
        "\n",
        "    # Initialize the first two numbers in the sequence\n",
        "    a, b = 0, 1\n",
        "\n",
        "    # Generate the Fibonacci sequence\n",
        "    while a <= limit:\n",
        "        fib_sequence.append(a)\n",
        "        a, b = b, a + b\n",
        "\n",
        "    return fib_sequence\n",
        "\n",
        "# Get the limit from the user\n",
        "try:\n",
        "    limit = int(input(\"Enter the limit for the Fibonacci sequence: \"))\n",
        "except ValueError:\n",
        "    print(\"Please enter a valid number.\")\n",
        "else:\n",
        "    if limit < 0:\n",
        "        print(\"Limit must be a non-negative number.\")\n",
        "    else:\n",
        "        # Call the function to generate the Fibonacci sequence\n",
        "        fibonacci_sequence = generate_fibonacci(limit)\n",
        "\n",
        "        # Print the Fibonacci sequence\n",
        "        print(\"Fibonacci sequence up to\", limit, \":\")\n",
        "        print(fibonacci_sequence)\n",
        "\n",
        "\n"
      ],
      "metadata": {
        "colab": {
          "base_uri": "https://localhost:8080/"
        },
        "id": "1tnVK0OAlLbz",
        "outputId": "73f594d3-4ffe-47c0-e369-ac5dab69be8a"
      },
      "execution_count": null,
      "outputs": [
        {
          "output_type": "stream",
          "name": "stdout",
          "text": [
            "Enter the limit for the Fibonacci sequence: 6\n",
            "Fibonacci sequence up to 6 :\n",
            "[0, 1, 1, 2, 3, 5]\n"
          ]
        }
      ]
    },
    {
      "cell_type": "markdown",
      "source": [
        "## **Counting the Digit**\n",
        "\n",
        "You have been given a task to write a Python program that counts the number of times a specific digit appears in a range of numbers. You need to use a for loop to iterate over the range of numbers, and a while loop to check each digit in the number."
      ],
      "metadata": {
        "id": "bxxR7TtBugpK"
      }
    },
    {
      "cell_type": "code",
      "source": [
        "def count_digit_occurrences(number, digit):\n",
        "    count = 0\n",
        "    while number > 0:\n",
        "        last_digit = number % 10\n",
        "\n",
        "        if last_digit == digit:\n",
        "            count += 1\n",
        "\n",
        "        number //= 10\n",
        "    return count\n",
        "\n",
        "\n",
        "start = int(input(\"Enter the start of the range: \"))\n",
        "end = int(input(\"Enter the end of the range: \"))\n",
        "digit_to_count = int(input(\"Enter the digit to count: \"))\n",
        "\n",
        "total_count = 0\n",
        "\n",
        "for num in range(start, end + 1):\n",
        "\n",
        "    digit_count = count_digit_occurrences(num, digit_to_count)\n",
        "    total_count += digit_count\n",
        "\n",
        "\n",
        "print(f\"The digit {digit_to_count} appears {total_count} times in the range from {start} to {end}.\")\n"
      ],
      "metadata": {
        "colab": {
          "base_uri": "https://localhost:8080/"
        },
        "id": "ciKp1P0bmugh",
        "outputId": "2987869b-16f8-47de-e8da-48c7cf4d4245"
      },
      "execution_count": null,
      "outputs": [
        {
          "output_type": "stream",
          "name": "stdout",
          "text": [
            "Enter the start of the range: 100\n",
            "Enter the end of the range: 150\n",
            "Enter the digit to count: 5\n",
            "The digit 5 appears 6 times in the range from 100 to 150.\n"
          ]
        }
      ]
    },
    {
      "cell_type": "markdown",
      "source": [
        "## **Building a Calculator**\n",
        "\n",
        "\n",
        "In this activity, we will create a custom function in Python to build a calculator that can perform basic arithmetic operations such as addition, subtraction, multiplication, and division."
      ],
      "metadata": {
        "id": "5oJRi3Mv1MuD"
      }
    },
    {
      "cell_type": "code",
      "source": [
        "# Define a function called calculator that takes three arguments: num1, num2, and operation\n",
        "def Calculator(num1,num2,operation):\n",
        "  try:\n",
        "    if operation == '+' or operation == 'addition':\n",
        "      result = num1+num2\n",
        "    elif operation == '-' or operation == 'substraction':\n",
        "      result = num1-num2\n",
        "    elif operation == '*' or operation == 'multiplication':\n",
        "      result = num1*num2\n",
        "    elif operation == '/' or operation == 'division':\n",
        "      if num2 > 0:\n",
        "        result = num1/num2\n",
        "      else:\n",
        "        print('Second number should be greater than zero')\n",
        "    else:\n",
        "      print('Invalid operation')\n",
        "\n",
        "    return result\n",
        "\n",
        "  except ZeroDivisionError:\n",
        "    return 'Cannot divide by zero'\n",
        "  except UnboundLocalError:\n",
        "    print('')\n",
        "\n",
        "num1 = int(input('Enter the first number: '))\n",
        "num2 = int(input('Enter the second number: '))\n",
        "operation = input('Enter the operation: ')\n",
        "Calculator(num1,num2,operation)"
      ],
      "metadata": {
        "colab": {
          "base_uri": "https://localhost:8080/"
        },
        "id": "uwIeai47oxUs",
        "outputId": "21b9df4a-fec4-4442-8e8c-f2a412d05e54"
      },
      "execution_count": null,
      "outputs": [
        {
          "name": "stdout",
          "output_type": "stream",
          "text": [
            "Enter the first number: 5\n",
            "Enter the second number: 5\n",
            "Enter the operation: +\n"
          ]
        },
        {
          "output_type": "execute_result",
          "data": {
            "text/plain": [
              "10"
            ]
          },
          "metadata": {},
          "execution_count": 11
        }
      ]
    },
    {
      "cell_type": "markdown",
      "source": [
        "**What is the random module?**\n",
        "\n",
        "The random module is a built-in Python module that provides a suite of functions for generating random numbers and sequences. This module is often used in applications where randomization is important, such as games, simulations, and cryptography.\n",
        "\n",
        "You do not need to worry much about this as you will be learning about these modules and functions in the upcoming classes."
      ],
      "metadata": {
        "id": "dld5FXtd7AnL"
      }
    },
    {
      "cell_type": "code",
      "source": [
        "def roll_dice(number):\n",
        "  import random\n",
        "  number=random.randint(1,6)\n",
        "  return number\n",
        "number = 0\n",
        "print(f'The result is {roll_dice(number)}')"
      ],
      "metadata": {
        "colab": {
          "base_uri": "https://localhost:8080/"
        },
        "id": "jCpLVlrhpceA",
        "outputId": "e35ec514-329b-4f80-f14f-e62b2cef0a23"
      },
      "execution_count": null,
      "outputs": [
        {
          "output_type": "stream",
          "name": "stdout",
          "text": [
            "The result is 2\n"
          ]
        }
      ]
    },
    {
      "cell_type": "markdown",
      "source": [
        "## **Celsius to Fahrenheit Converter**\n",
        "\n",
        "Create a custom function that takes in a temperature in Celsius and returns the temperature in Fahrenheit.\n",
        "\n",
        "**For example**: If the input temperature is 20 degrees Celsius, the output temperature should be 68 degrees Fahrenheit.\n"
      ],
      "metadata": {
        "id": "XB3M38js4r8r"
      }
    },
    {
      "cell_type": "code",
      "source": [
        "def Fahrenheit(celsius):\n",
        "    F=(celsius*9/5)+32\n",
        "    return(f\"The temperature of {celsius} degree celsius is {F} fahrenheit\")\n",
        "\n",
        "celsius = int(input())\n",
        "print(Fahrenheit(celsius))"
      ],
      "metadata": {
        "colab": {
          "base_uri": "https://localhost:8080/"
        },
        "id": "I7v-NiN-v-gA",
        "outputId": "e12b1d47-291e-4e68-ed62-01ebdfd1c4f0"
      },
      "execution_count": null,
      "outputs": [
        {
          "output_type": "stream",
          "name": "stdout",
          "text": [
            "20\n",
            "The temperature of 20 degree celsius is 68.0 fahrenheit\n"
          ]
        }
      ]
    },
    {
      "cell_type": "markdown",
      "source": [
        "Sum odd Numbers ➖\n",
        "\n",
        "In this activity, you will create a custom function in Python that takes a list of integers as an argument and returns the sum of all odd numbers in the list."
      ],
      "metadata": {
        "id": "1w7HuTdpvxJY"
      }
    },
    {
      "cell_type": "code",
      "source": [
        "def sum_odd(lst):\n",
        "    sum = 0\n",
        "    for i in lst:\n",
        "        if i%2!=0:\n",
        "            sum+=i\n",
        "    print(sum)\n",
        "\n",
        "lst = eval(input())\n",
        "print(sum_odd(lst))"
      ],
      "metadata": {
        "colab": {
          "base_uri": "https://localhost:8080/"
        },
        "id": "BE40XcPF-eGf",
        "outputId": "34132831-de24-4bc3-b359-9443fd4f8e9a"
      },
      "execution_count": null,
      "outputs": [
        {
          "output_type": "stream",
          "name": "stdout",
          "text": [
            "[1,2,3,4,5,6]\n",
            "9\n",
            "None\n"
          ]
        }
      ]
    },
    {
      "cell_type": "markdown",
      "source": [
        "# **Advanced Looping Concepts**"
      ],
      "metadata": {
        "id": "W80MJEP4IrWl"
      }
    },
    {
      "cell_type": "markdown",
      "source": [
        "Lambda Functions\n",
        "\n",
        "🧑‍💻 You are working as a Python developer for a startup company that has just received a project from a client. The client wants a program that can perform certain operations on lists using lambda functions. Your manager has assigned you the task of finding the sum of squared odd numbers from the list.\n",
        "\n",
        "👉 Hint: You have to use filter, map and reduce functions to get the task done."
      ],
      "metadata": {
        "id": "o_opLNkmvyLF"
      }
    },
    {
      "cell_type": "code",
      "source": [
        "from functools import reduce\n",
        "\n",
        "# Create a list of numbers from 1 to 10\n",
        "numbers = list(range(1, 11))\n",
        "\n",
        "# Write your code\n",
        "li = list(filter(lambda x:x%2 !=0,numbers))\n",
        "print(li)\n",
        "\n",
        "squared_odd = list(map(lambda x:x**2,li))\n",
        "print(squared_odd)\n",
        "\n",
        "sum = reduce(lambda x,y:x+y,squared_odd)\n",
        "print(sum)"
      ],
      "metadata": {
        "colab": {
          "base_uri": "https://localhost:8080/"
        },
        "id": "Qa4aqzU7v1Ye",
        "outputId": "842b9340-5326-4198-9c60-99bf69dee178"
      },
      "execution_count": null,
      "outputs": [
        {
          "output_type": "stream",
          "name": "stdout",
          "text": [
            "[1, 3, 5, 7, 9]\n",
            "[1, 9, 25, 49, 81]\n",
            "165\n"
          ]
        }
      ]
    },
    {
      "cell_type": "markdown",
      "source": [
        "Pizza Toppings\n",
        "\n",
        "🍕🍔 You have two lists, one containing pizza toppings and the other containing burger toppings. You need to create a new list that contains all the toppings from both the pizza and burger toppings lists, but only if they have more than 5 characters in their name.\n",
        "\n",
        "Can you write the code to create a new list that contains all the toppings from both the pizza and burger toppings lists, but only if they have more than 5 characters in their name using list comprehension only?\n",
        "\n",
        "👉 Hint: You can use a conditional statement to check the length of each topping's name.\n",
        "\n",
        "food.png"
      ],
      "metadata": {
        "id": "nZ01WXfnwFNF"
      }
    },
    {
      "cell_type": "code",
      "source": [
        "# Here are the example lists of toppings\n",
        "pizza_toppings = ['mushroom', 'olive', 'tomato', 'pepperoni', 'onion', 'garlic']\n",
        "burger_toppings = ['lettuce', 'cheese', 'mayonnaise', 'bacon', 'pickle', 'avocado']\n",
        "\n",
        "# Write your code here\n",
        "new_toppings = [(i) for i in pizza_toppings+burger_toppings if len(i)>5]\n",
        "new_toppings"
      ],
      "metadata": {
        "colab": {
          "base_uri": "https://localhost:8080/"
        },
        "id": "srePoJPDwJV7",
        "outputId": "c1782e97-5606-4095-f509-d15d5e9cbf65"
      },
      "execution_count": null,
      "outputs": [
        {
          "output_type": "execute_result",
          "data": {
            "text/plain": [
              "['mushroom',\n",
              " 'tomato',\n",
              " 'pepperoni',\n",
              " 'garlic',\n",
              " 'lettuce',\n",
              " 'cheese',\n",
              " 'mayonnaise',\n",
              " 'pickle',\n",
              " 'avocado']"
            ]
          },
          "metadata": {},
          "execution_count": 2
        }
      ]
    },
    {
      "cell_type": "markdown",
      "source": [
        "Stock Filtering\n",
        "\n",
        "📊📈 Suppose you are working for a company that deals with financial data. You have been given a list of dictionaries, where each dictionary contains the following information about a stock: name, ticker symbol, price, and percentage change in price. Your task is to create a new list of dictionaries, where each dictionary contains only the name and price of the stock, but only for those stocks where the price is greater than 100 and the percentage change is positive. You must use list comprehension to solve the problem.\n",
        "\n",
        "Can you write the code to create the desired list of dictionaries using list comprehension?\n",
        "\n",
        "👉 Hint: You can use conditional statements to check if the price is greater than 100 and the percentage change is positive in the list comprehension."
      ],
      "metadata": {
        "id": "ivNDdIIXwbs2"
      }
    },
    {
      "cell_type": "code",
      "source": [
        "stocks = [\n",
        "    {'name': 'Apple Inc.', 'ticker': 'AAPL', 'price': 120.0, 'change': 0.05},\n",
        "    {'name': 'Microsoft Corporation', 'ticker': 'MSFT', 'price': 95.0, 'change': -0.02},\n",
        "    {'name': 'Amazon.com, Inc.', 'ticker': 'AMZN', 'price': 250.0, 'change': 0.1},\n",
        "    {'name': 'Alphabet Inc.', 'ticker': 'GOOGL', 'price': 110.0, 'change': 0.02},\n",
        "    {'name': 'Facebook, Inc.', 'ticker': 'FB', 'price': 80.0, 'change': 0.03}\n",
        "]"
      ],
      "metadata": {
        "id": "btZrEGuywdsS"
      },
      "execution_count": null,
      "outputs": []
    },
    {
      "cell_type": "code",
      "source": [
        "#creat new list of dictionary where each dictionary contain name & price stock : stock price > 100 and change +\n",
        "\n",
        "new_stock = [{'name':stock['name'],'price':stock['price']} for stock in stocks if stock['price']>100 and stock['change']>0]"
      ],
      "metadata": {
        "id": "Ci8NiAp5woh6"
      },
      "execution_count": null,
      "outputs": []
    },
    {
      "cell_type": "code",
      "source": [
        "new_stock"
      ],
      "metadata": {
        "colab": {
          "base_uri": "https://localhost:8080/"
        },
        "id": "xj9aDGTowpjN",
        "outputId": "845152be-b98a-436e-ccae-2948a735180f"
      },
      "execution_count": null,
      "outputs": [
        {
          "output_type": "execute_result",
          "data": {
            "text/plain": [
              "[{'name': 'Apple Inc.', 'price': 120.0},\n",
              " {'name': 'Amazon.com, Inc.', 'price': 250.0},\n",
              " {'name': 'Alphabet Inc.', 'price': 110.0}]"
            ]
          },
          "metadata": {},
          "execution_count": 5
        }
      ]
    },
    {
      "cell_type": "markdown",
      "source": [
        "Duplicate Songs\n",
        "\n",
        "🎵🎶 You have a list of songs that you like to listen to, but you notice that some of the songs have duplicate names. You want to create a new set that contains the unique names of all the songs and keep the songs whose name doesn't start with \"S\" and doesn't end with \"n\" in your list using set comprehension.\n",
        "\n",
        "Can you write the code to create a new set that contains the unique names of all the songs in your list using set comprehension only?\n",
        "\n",
        "👉 Hint: Set comprehension is similar to list comprehension, but with curly braces {} instead of square brackets []."
      ],
      "metadata": {
        "id": "FVd7tLOMw6B2"
      }
    },
    {
      "cell_type": "code",
      "source": [
        "# Here's an example list of songs\n",
        "songs = ['Bohemian Rhapsody', 'Stairway to Heaven', 'Bohemian Rhapsody', 'Hotel California', 'November Rain', 'Stairway to Heaven', 'Sweet Child O\\' Mine']\n",
        "\n",
        "# Write your code here\n",
        "new_songs = {song for song in songs}\n",
        "print(new_songs)\n",
        "song = {i for i in new_songs if i[0]!='S' or i[-1]!='n'}  #if song name start with 'S' or song name end with 'n' - if anyone condition is true\n",
        "print(song)\n",
        "\n",
        "song1 = {i for i in new_songs if i[0]!='S' and i[-1]!='n'}  #if song name start with 'S' and song name end with 'n' - if both condition is true\n",
        "print(song1)\n"
      ],
      "metadata": {
        "colab": {
          "base_uri": "https://localhost:8080/"
        },
        "id": "5DtyfGauw70N",
        "outputId": "25e4221e-7d80-4458-91f2-25f1757ebeaf"
      },
      "execution_count": null,
      "outputs": [
        {
          "output_type": "stream",
          "name": "stdout",
          "text": [
            "{\"Sweet Child O' Mine\", 'November Rain', 'Bohemian Rhapsody', 'Hotel California', 'Stairway to Heaven'}\n",
            "{'November Rain', 'Hotel California', 'Bohemian Rhapsody', \"Sweet Child O' Mine\"}\n",
            "{'Hotel California', 'Bohemian Rhapsody'}\n"
          ]
        }
      ]
    },
    {
      "cell_type": "markdown",
      "source": [
        "OOPs in Python\n",
        "\n",
        "Building a Simple Calculator 🧮🔢\n",
        "\n",
        "In this activity, you will build a simple calculator program in Python using Object-Oriented Programming (OOP) concepts.\n",
        "\n"
      ],
      "metadata": {
        "id": "P6_PK_xRxKal"
      }
    },
    {
      "cell_type": "code",
      "source": [
        "# Define a simple calculator class\n",
        "class Calculator():\n",
        "  def __init__(self,num1,operation,num2):\n",
        "    self.num1 = num1\n",
        "    self.num2 = num2\n",
        "    self.operation = operation\n",
        "  def calculator(self):\n",
        "    if self.operation == '+' or self.operation == 'addition':\n",
        "      result = self.num1+self.num2\n",
        "      return result\n",
        "    elif self.operation == '-' or self.operation == 'subtraction':\n",
        "      result = self.num1 - self.num2\n",
        "      return result\n",
        "    elif self.operation == '*' or self.operation == 'multiplication':\n",
        "      result = self.num1*self.num2\n",
        "      return result\n",
        "    elif self.operation == '/' or self.operation == 'division':\n",
        "      if self.num2==0:\n",
        "        raise ZeroDivisionError ('Cannot divide by zero')\n",
        "      result = self.num1/self.num2\n",
        "      return result\n",
        "\n",
        "    else:\n",
        "      return 'Enter the valid operation'"
      ],
      "metadata": {
        "id": "I5kgIiFxxQhZ"
      },
      "execution_count": null,
      "outputs": []
    },
    {
      "cell_type": "code",
      "source": [
        "# Test Case\n",
        "num1 = int(input('Enter the 1st number: '))\n",
        "operation = input('Enter the operation (+,-,*,/): ')\n",
        "num2 = int(input('Enter the 2nd number: '))\n",
        "calci = Calculator(num1,operation,num2)\n",
        "calci.calculator()"
      ],
      "metadata": {
        "colab": {
          "base_uri": "https://localhost:8080/"
        },
        "id": "8nN9XzU8xVA3",
        "outputId": "4c71aa46-cb42-4b21-b443-b7fb9377664d"
      },
      "execution_count": null,
      "outputs": [
        {
          "name": "stdout",
          "output_type": "stream",
          "text": [
            "Enter the 1st number: 4\n",
            "Enter the operation (+,-,*,/): +\n",
            "Enter the 2nd number: 2\n"
          ]
        },
        {
          "output_type": "execute_result",
          "data": {
            "text/plain": [
              "6"
            ]
          },
          "metadata": {},
          "execution_count": 8
        }
      ]
    },
    {
      "cell_type": "markdown",
      "source": [
        "🏀Basketball Game Score Tracker📈\n",
        "\n",
        "Create a class that will keep track of the score of a basketball game. The class should have methods for updating the score and printing the current score."
      ],
      "metadata": {
        "id": "4vDX_t_wxlZ8"
      }
    },
    {
      "cell_type": "code",
      "source": [
        "class BasketballGame:\n",
        "    def __init__(self):\n",
        "        self.team1_score = 0\n",
        "        self.team2_score = 0\n",
        "\n",
        "    def update_score_team1(self, points):\n",
        "        self.team1_score += points\n",
        "\n",
        "    def update_score_team2(self, points):\n",
        "        self.team2_score += points\n",
        "\n",
        "    def print_score(self):\n",
        "        print(f\"Team 1 Score: {self.team1_score}\")\n",
        "        print(f\"Team 2 Score: {self.team2_score}\")\n",
        "\n",
        "# Testing the class\n",
        "game = BasketballGame()\n",
        "\n",
        "game.update_score_team1(2)\n",
        "game.update_score_team2(3)\n",
        "game.update_score_team1(3)\n",
        "game.update_score_team2(2)\n",
        "\n",
        "game.print_score()"
      ],
      "metadata": {
        "colab": {
          "base_uri": "https://localhost:8080/"
        },
        "id": "0B5pFzj-xx52",
        "outputId": "8fffdea2-36a8-4aa2-85d0-364a6b03e04e"
      },
      "execution_count": null,
      "outputs": [
        {
          "output_type": "stream",
          "name": "stdout",
          "text": [
            "Team 1 Score: 5\n",
            "Team 2 Score: 5\n"
          ]
        }
      ]
    },
    {
      "cell_type": "markdown",
      "source": [
        "🎨 Paint Brush Class 🖌️\n",
        "\n",
        "Create a Python class for a paint brush that has the following properties"
      ],
      "metadata": {
        "id": "aRDJHx0Nx62W"
      }
    },
    {
      "cell_type": "markdown",
      "source": [
        "Size (small, medium, or large)\n",
        "Color (red, blue, green, or yellow)\n",
        "Brand (Winsor & Newton, Liquitex, or Grumbacher)\n",
        "Type (round or flat)"
      ],
      "metadata": {
        "id": "2YH39G-pyLx8"
      }
    },
    {
      "cell_type": "code",
      "source": [
        "# Define PaintBrush Class\n",
        "class PaintBrush():\n",
        "  def __init__(self, Size, Color, Brand, brush_Type):\n",
        "    self.Size = Size\n",
        "    self.Color = Color\n",
        "    self.Brand = Brand\n",
        "    self.brush_Type = brush_Type\n",
        "\n",
        "  def paint(self):\n",
        "    print(f'Brush Size: {self.Size}')\n",
        "    print(f'Brush Color : {self.Color}')\n",
        "    print(f'Brush Brand: {self.Brand}')\n",
        "    print(f'Brush Type: {self.brush_Type}')"
      ],
      "metadata": {
        "id": "FzaC2A4BySHT"
      },
      "execution_count": null,
      "outputs": []
    },
    {
      "cell_type": "code",
      "source": [
        "# Test Case\n",
        "Brush = PaintBrush(Size = 'Medium',Color = 'Red',Brand = 'Winsor & Newton',brush_Type = 'Round')\n",
        "\n",
        "Brush.paint()"
      ],
      "metadata": {
        "colab": {
          "base_uri": "https://localhost:8080/"
        },
        "id": "M54i9WNRyVpB",
        "outputId": "126c4899-bb83-4648-8e62-7cbc0845af85"
      },
      "execution_count": null,
      "outputs": [
        {
          "output_type": "stream",
          "name": "stdout",
          "text": [
            "Brush Size: Medium\n",
            "Brush Color : Red\n",
            "Brush Brand: Winsor & Newton\n",
            "Brush Type: Round\n"
          ]
        }
      ]
    },
    {
      "cell_type": "markdown",
      "source": [
        "Bank Account Management System 💻🏦\n",
        "\n",
        "Create a Bank Account Management System using Object-Oriented Programming (OOPs) in Python. The system should allow users to create and manage bank accounts, deposit and withdraw funds, and view account details."
      ],
      "metadata": {
        "id": "AAFpeZ5ByifN"
      }
    },
    {
      "cell_type": "code",
      "source": [
        "# Define a BankAccount class\n",
        "class BankAccount:\n",
        "  def __init__(self,Name,Account_number,Balance):\n",
        "    self.name = Name\n",
        "    self.account_number = Account_number\n",
        "    self.balance = Balance\n",
        "\n",
        "  def deposit(self,amount):\n",
        "    print(f'Previews Balance is : {self.balance} Rs')\n",
        "    self.balance += amount\n",
        "    print(f\"Current Balance is : {self.balance} Rs\")\n",
        "\n",
        "  def withdraw(self,amount):\n",
        "    if amount > self.balance:\n",
        "      print('Your balance is less than the amount you want to withdraw')\n",
        "      print(f'Your Current balance is {self.balance} Rs')\n",
        "    else:\n",
        "      self.balance -= amount\n",
        "      print(f'Current balance is : {self.balance} Rs')\n",
        "\n",
        "  def account_details(self):\n",
        "    print(f'Account Holder name: {self.name}')\n",
        "    print(f\"Account_number : {self.account_number}\")\n",
        "    print(f\"Total Balance: {self.balance} Rs\")"
      ],
      "metadata": {
        "id": "nuu80KGmymWh"
      },
      "execution_count": null,
      "outputs": []
    },
    {
      "cell_type": "code",
      "source": [
        "# Test Case\n",
        "account = BankAccount('Gaurav Yelane',123456789,700)"
      ],
      "metadata": {
        "id": "utvtBllrytzT"
      },
      "execution_count": null,
      "outputs": []
    },
    {
      "cell_type": "code",
      "source": [
        "account.deposit(800)"
      ],
      "metadata": {
        "colab": {
          "base_uri": "https://localhost:8080/"
        },
        "id": "P6wVf8Ply3Gg",
        "outputId": "2574fb8f-8372-4687-d6a8-6f2f097a83d1"
      },
      "execution_count": null,
      "outputs": [
        {
          "output_type": "stream",
          "name": "stdout",
          "text": [
            "Previews Balance is : 700 Rs\n",
            "Current Balance is : 1500 Rs\n"
          ]
        }
      ]
    },
    {
      "cell_type": "code",
      "source": [
        "account.withdraw(100)"
      ],
      "metadata": {
        "colab": {
          "base_uri": "https://localhost:8080/"
        },
        "id": "QdlgjBdbzHmF",
        "outputId": "3bfd0afa-23fb-4879-dfe3-af7600d91ef2"
      },
      "execution_count": null,
      "outputs": [
        {
          "output_type": "stream",
          "name": "stdout",
          "text": [
            "Current balance is : 1400 Rs\n"
          ]
        }
      ]
    },
    {
      "cell_type": "code",
      "source": [
        "account.account_details()"
      ],
      "metadata": {
        "id": "rGTqINBmzNO_",
        "colab": {
          "base_uri": "https://localhost:8080/"
        },
        "outputId": "a5760a28-6ee0-4e9a-d6f0-21c132f1748b"
      },
      "execution_count": null,
      "outputs": [
        {
          "output_type": "stream",
          "name": "stdout",
          "text": [
            "Account Holder name: Gaurav Yelane\n",
            "Account_number : 123456789\n",
            "Total Balance: 700 Rs\n"
          ]
        }
      ]
    },
    {
      "cell_type": "markdown",
      "source": [
        "Exception Handling\n",
        "\n",
        "Sum of first n Natural Numbers\n",
        "\n",
        "💻 Suppose you are working on a project that requires you to write a Python program that calculates the sum of the first n natural numbers. You wrote a program to solve the problem, but the code contains several errors that prevent it from executing properly. ❌\n",
        "\n",
        "Your task is to identify and rectify the errors in the code and write the correct program. 🛠️"
      ],
      "metadata": {
        "id": "BeU9fYyIzTT9"
      }
    },
    {
      "cell_type": "code",
      "source": [
        "# Write your code here\n",
        "# Code with errors\n",
        "n = int(input(\"Enter a number: \")) #added int function before input\n",
        "sum = 0\n",
        "for i in range(0, n+1):\n",
        "  sum = sum + i\n",
        "print(\"The sum of the first\", n, \"natural numbers is\", sum) #added parenthisis"
      ],
      "metadata": {
        "colab": {
          "base_uri": "https://localhost:8080/"
        },
        "id": "mpEP94eez73A",
        "outputId": "de530f31-a079-45ba-d12d-a2c5476ef04a"
      },
      "execution_count": null,
      "outputs": [
        {
          "output_type": "stream",
          "name": "stdout",
          "text": [
            "Enter a number: 5\n",
            "The sum of the first 5 natural numbers is 15\n"
          ]
        }
      ]
    },
    {
      "cell_type": "markdown",
      "source": [
        "Average Temperature 🌡️🌡️\n",
        "\n",
        "You have been given a task to develop a program that calculates the average temperature 🌡️ of a city 🏢 for a given week. You have written a program to solve the problem, but there seems to be some logical errors that are causing the program to output incorrect results. You are provided with two sets of weekly temperatures and need to find the average of each individual week.\n",
        "\n",
        "Your task is to identify and rectify the logical errors in the code and write the correct program."
      ],
      "metadata": {
        "id": "tOKZoEtc0QCQ"
      }
    },
    {
      "cell_type": "code",
      "source": [
        "temperatures_w1 = [32, 34, 31, 30, 29, 28, 33]\n",
        "temperatures_w2 = [31, 34, 35, 28, 29]\n",
        "sum = 0\n",
        "\n",
        "for temp in temperatures_w1:\n",
        "  sum += temp\n",
        "  avg = sum / len(temperatures_w1)\n",
        "print(avg)\n",
        "\n",
        "sum = 0\n",
        "for i in temperatures_w2:\n",
        "  sum += i\n",
        "  avg = sum/len(temperatures_w2)\n",
        "print(avg)"
      ],
      "metadata": {
        "colab": {
          "base_uri": "https://localhost:8080/"
        },
        "id": "jGHiyFXb0Su0",
        "outputId": "0b07a461-35f5-4f94-f15a-0431bef6cbb1"
      },
      "execution_count": null,
      "outputs": [
        {
          "output_type": "stream",
          "name": "stdout",
          "text": [
            "31.0\n",
            "31.4\n"
          ]
        }
      ]
    },
    {
      "cell_type": "markdown",
      "source": [
        "Handle that Error! ❌❌\n",
        "\n",
        "You are developing a Python program that requires user input. You want to make sure that your program doesn't crash due to invalid user input or unexpected errors 🛑. You have heard about exception handling in Python and want to implement it in your program to handle errors gracefully.\n",
        "\n",
        "Your task is to implement exception handling in your program to handle invalid user input and unexpected errors."
      ],
      "metadata": {
        "id": "kN6r6Mie0fGF"
      }
    },
    {
      "cell_type": "code",
      "source": [
        "# Write your code here\n",
        "try:\n",
        "  num1 = int(input(\"Enter the first number: \"))\n",
        "  num2 = int(input(\"Enter the second number: \"))\n",
        "\n",
        "  result = num1/num2\n",
        "  print(\"The result is: \", result)\n",
        "except ZeroDivisionError:\n",
        "    print('Cannot divide by zero')\n",
        "except ValueError:\n",
        "  print('Invalid input, Enter the numeric value')\n",
        "except Exception:\n",
        "  print('There is some error')"
      ],
      "metadata": {
        "id": "klgieyLm0hmf",
        "colab": {
          "base_uri": "https://localhost:8080/"
        },
        "outputId": "3a8911d6-2980-4723-9698-d7dd10153387"
      },
      "execution_count": null,
      "outputs": [
        {
          "output_type": "stream",
          "name": "stdout",
          "text": [
            "Enter the first number: 5\n",
            "Enter the second number: 3\n",
            "The result is:  1.6666666666666667\n"
          ]
        }
      ]
    },
    {
      "cell_type": "markdown",
      "source": [
        "\n",
        "What's the time? ⌚⌚\n",
        "\n",
        "Create a class Time which takes two inputs: hours and minutes to instantiate."
      ],
      "metadata": {
        "id": "P98b5IPN0nQ2"
      }
    },
    {
      "cell_type": "markdown",
      "source": [
        "Construct a method DisplayTime() which displays the time in AM/PM formats.\n",
        "    For example if the input is 14 hours and 45 mins, then this method will print \"The time is 2:45 PM\".\n",
        "    If the inputted hours exceeds 23 then print the message \"The input hours should be less than 24\" and if the inputted minutes exceeds 59 then print the message \"The input minutes should be less than 60.\"\n",
        "    Also if the input is 12 hours 30 minutes, then the displayed time would be 12:30 PM\n",
        "\n",
        "Construct a method DisplayRatio() which should display the ratio of minutes to hours.\n",
        "    For example, (8 hours and 16 mins) should display 2. Use try, except block to account for ZeroDivisionError."
      ],
      "metadata": {
        "id": "NjQ0hateDBHf"
      }
    },
    {
      "cell_type": "markdown",
      "source": [],
      "metadata": {
        "id": "7N-rsCgoDCDX"
      }
    },
    {
      "cell_type": "code",
      "source": [
        "class Time:\n",
        "    def __init__(self, hours, minutes):\n",
        "        self.hours = hours\n",
        "        self.minutes = minutes\n",
        "\n",
        "    def DisplayTime(self):\n",
        "        if self.hours >= 24:\n",
        "            print(\"The input hours should be less than 24\")\n",
        "            return\n",
        "        if self.minutes >= 60:\n",
        "            print(\"The input minutes should be less than 60\")\n",
        "            return\n",
        "\n",
        "        am_pm = \"AM\"\n",
        "        hour_display = self.hours\n",
        "        if self.hours >= 12:\n",
        "            am_pm = \"PM\"\n",
        "            if self.hours > 12:\n",
        "                hour_display = self.hours - 12\n",
        "        if hour_display == 0:\n",
        "            hour_display = 12\n",
        "\n",
        "        print(f\"The time is {hour_display}:{self.minutes:02d} {am_pm}\")\n",
        "\n",
        "    def DisplayRatio(self):\n",
        "        try:\n",
        "            ratio = self.minutes / self.hours\n",
        "            print(f\"The ratio of minutes to hours is: {ratio:.2f}\")\n",
        "        except ZeroDivisionError:\n",
        "            print(\"Division by zero error. Hours should be greater than 0.\")\n",
        "\n",
        "\n",
        "# Example usage:\n",
        "time1 = Time(14, 45)\n",
        "time1.DisplayTime()  # Output: The time is 2:45 PM\n",
        "time1.DisplayRatio()  # Output: The ratio of minutes to hours is: 3.21\n",
        "\n",
        "time2 = Time(12, 30)\n",
        "time2.DisplayTime()  # Output: The time is 12:30 PM\n",
        "time2.DisplayRatio()  # Output: The ratio of minutes to hours is: 2.50\n",
        "\n",
        "time3 = Time(25, 10)\n",
        "time3.DisplayTime()  # Output: The input hours should be less than 24\n",
        "\n",
        "time4 = Time(8, 0)\n",
        "time4.DisplayRatio()  # Output: Division by zero error. Hours should be greater than 0.\n"
      ],
      "metadata": {
        "id": "lH0Y3HS1DcL_",
        "colab": {
          "base_uri": "https://localhost:8080/"
        },
        "outputId": "0c97acca-b7b7-49c6-d7c1-d00812f2a32a"
      },
      "execution_count": null,
      "outputs": [
        {
          "output_type": "stream",
          "name": "stdout",
          "text": [
            "The time is 2:45 PM\n",
            "The ratio of minutes to hours is: 3.21\n",
            "The time is 12:30 PM\n",
            "The ratio of minutes to hours is: 2.50\n",
            "The input hours should be less than 24\n",
            "The ratio of minutes to hours is: 0.00\n"
          ]
        }
      ]
    }
  ]
}